{
  "nbformat": 4,
  "nbformat_minor": 0,
  "metadata": {
    "colab": {
      "name": "4-introduction-to-tensorflow.ipynb",
      "version": "0.3.2",
      "provenance": [],
      "collapsed_sections": []
    },
    "kernelspec": {
      "name": "python3",
      "display_name": "Python 3"
    },
    "accelerator": "GPU"
  },
  "cells": [
    {
      "metadata": {
        "id": "7NIxjzpH1FQ_",
        "colab_type": "code",
        "colab": {}
      },
      "cell_type": "code",
      "source": [
        "import tensorflow as tf"
      ],
      "execution_count": 0,
      "outputs": []
    },
    {
      "metadata": {
        "id": "tvwL-1G81KJ_",
        "colab_type": "code",
        "colab": {}
      },
      "cell_type": "code",
      "source": [
        "x = tf.placeholder(dtype=tf.float32)"
      ],
      "execution_count": 0,
      "outputs": []
    },
    {
      "metadata": {
        "id": "1_wdIZT61T67",
        "colab_type": "code",
        "colab": {}
      },
      "cell_type": "code",
      "source": [
        "y = tf.pow((2 * x), 2) + (2*x) + 1"
      ],
      "execution_count": 0,
      "outputs": []
    },
    {
      "metadata": {
        "id": "1Pp8gDTO1cY2",
        "colab_type": "code",
        "colab": {}
      },
      "cell_type": "code",
      "source": [
        "init_op = tf.global_variables_initializer()"
      ],
      "execution_count": 0,
      "outputs": []
    },
    {
      "metadata": {
        "id": "H8XRchJt1nhH",
        "colab_type": "code",
        "colab": {}
      },
      "cell_type": "code",
      "source": [
        "sess = tf.Session()"
      ],
      "execution_count": 0,
      "outputs": []
    },
    {
      "metadata": {
        "id": "ItqtxYOC1rNw",
        "colab_type": "code",
        "colab": {}
      },
      "cell_type": "code",
      "source": [
        "sess.run(init_op)"
      ],
      "execution_count": 0,
      "outputs": []
    },
    {
      "metadata": {
        "id": "-2ObKtfV1wma",
        "colab_type": "code",
        "colab": {}
      },
      "cell_type": "code",
      "source": [
        "value = sess.run(y, feed_dict={x: 10})"
      ],
      "execution_count": 0,
      "outputs": []
    },
    {
      "metadata": {
        "id": "42g0cbaf15Aq",
        "colab_type": "code",
        "colab": {
          "base_uri": "https://localhost:8080/",
          "height": 35
        },
        "outputId": "2aaf7f72-dfc7-4653-f130-6bb086bf12d8"
      },
      "cell_type": "code",
      "source": [
        "print(value)"
      ],
      "execution_count": 9,
      "outputs": [
        {
          "output_type": "stream",
          "text": [
            "421.0\n"
          ],
          "name": "stdout"
        }
      ]
    },
    {
      "metadata": {
        "id": "qtlbs6xE23hY",
        "colab_type": "code",
        "colab": {}
      },
      "cell_type": "code",
      "source": [
        "weights = tf.Variable(tf.random_normal(shape=[10]))\n"
      ],
      "execution_count": 0,
      "outputs": []
    },
    {
      "metadata": {
        "id": "7ztQU3Eh3AgE",
        "colab_type": "code",
        "colab": {
          "base_uri": "https://localhost:8080/",
          "height": 70
        },
        "outputId": "3c8e9431-af02-464f-c721-90ca19f11cbc"
      },
      "cell_type": "code",
      "source": [
        "sess.run(tf.global_variables_initializer())\n",
        "sess.run(weights)"
      ],
      "execution_count": 11,
      "outputs": [
        {
          "output_type": "execute_result",
          "data": {
            "text/plain": [
              "array([ 0.41097182,  0.24907863,  1.0661308 ,  0.56643736, -1.1552471 ,\n",
              "       -1.3236833 , -0.1640344 , -0.33864897, -2.1524553 , -0.6724794 ],\n",
              "      dtype=float32)"
            ]
          },
          "metadata": {
            "tags": []
          },
          "execution_count": 11
        }
      ]
    },
    {
      "metadata": {
        "id": "ffT8D0Id3-WL",
        "colab_type": "code",
        "colab": {}
      },
      "cell_type": "code",
      "source": [
        "from sklearn.datasets import load_iris\n",
        "import numpy as np"
      ],
      "execution_count": 0,
      "outputs": []
    },
    {
      "metadata": {
        "id": "8kbm084S4EEY",
        "colab_type": "code",
        "colab": {}
      },
      "cell_type": "code",
      "source": [
        "x = load_iris().data\n",
        "y = load_iris().target"
      ],
      "execution_count": 0,
      "outputs": []
    },
    {
      "metadata": {
        "id": "N80Ew4GB4NIZ",
        "colab_type": "code",
        "colab": {
          "base_uri": "https://localhost:8080/",
          "height": 228
        },
        "outputId": "ca1d9354-a9dc-41cd-9200-7cf27907baae"
      },
      "cell_type": "code",
      "source": [
        "x[:10], y[:10], x.shape"
      ],
      "execution_count": 14,
      "outputs": [
        {
          "output_type": "execute_result",
          "data": {
            "text/plain": [
              "(array([[5.1, 3.5, 1.4, 0.2],\n",
              "        [4.9, 3. , 1.4, 0.2],\n",
              "        [4.7, 3.2, 1.3, 0.2],\n",
              "        [4.6, 3.1, 1.5, 0.2],\n",
              "        [5. , 3.6, 1.4, 0.2],\n",
              "        [5.4, 3.9, 1.7, 0.4],\n",
              "        [4.6, 3.4, 1.4, 0.3],\n",
              "        [5. , 3.4, 1.5, 0.2],\n",
              "        [4.4, 2.9, 1.4, 0.2],\n",
              "        [4.9, 3.1, 1.5, 0.1]]),\n",
              " array([0, 0, 0, 0, 0, 0, 0, 0, 0, 0]),\n",
              " (150, 4))"
            ]
          },
          "metadata": {
            "tags": []
          },
          "execution_count": 14
        }
      ]
    },
    {
      "metadata": {
        "id": "lL95w_j14Ro4",
        "colab_type": "code",
        "colab": {}
      },
      "cell_type": "code",
      "source": [
        "input_features = tf.placeholder(dtype=tf.float32,\n",
        "                                shape = [None, x.shape[1]])\n",
        "input_labels = tf.placeholder(dtype=tf.float32,\n",
        "                             shape = [None, 3])\n",
        "\n",
        "weights = tf.Variable(tf.random_normal(shape=[x.shape[1], 3]))\n",
        "biases = tf.Variable(tf.random_normal(shape=[3]))\n",
        "linear_model = tf.add(tf.matmul(input_features,weights), biases)\n",
        "\n",
        "loss = tf.reduce_mean(tf.square(linear_model - input_labels))\n",
        "train_op = tf.train.GradientDescentOptimizer(learning_rate=0.001).minimize(loss)"
      ],
      "execution_count": 0,
      "outputs": []
    },
    {
      "metadata": {
        "id": "SK4TKYel7bf1",
        "colab_type": "code",
        "colab": {}
      },
      "cell_type": "code",
      "source": [
        "sess = tf.Session()\n",
        "sess.run(tf.global_variables_initializer())"
      ],
      "execution_count": 0,
      "outputs": []
    },
    {
      "metadata": {
        "id": "6fcUIZR08e5o",
        "colab_type": "code",
        "colab": {}
      },
      "cell_type": "code",
      "source": [
        "def next_batch(batch_size, features, labels):\n",
        "  indices = np.arange(start=0, stop=features.shape[0])\n",
        "  np.random.shuffle(indices)\n",
        "  indices = indices[:batch_size]\n",
        "  return features[indices], labels[indices]"
      ],
      "execution_count": 0,
      "outputs": []
    },
    {
      "metadata": {
        "id": "sjNVHiEt9Q6Z",
        "colab_type": "code",
        "colab": {
          "base_uri": "https://localhost:8080/",
          "height": 211
        },
        "outputId": "e7200f4c-02fe-4028-e8ec-5df48a31bfb2"
      },
      "cell_type": "code",
      "source": [
        "batch_size = 16\n",
        "for epoch in range(10):\n",
        "  for index in range(int(x.shape[0] / batch_size)):\n",
        "    mini_batch_x, mini_batch_y = next_batch(batch_size = batch_size, features =x, labels=y)\n",
        "    \n",
        "    \n",
        "    from keras.utils import to_categorical\n",
        "    mini_batch_y = to_categorical(mini_batch_y)\n",
        "    _, train_loss = sess.run([train_op, loss], feed_dict={\n",
        "        input_features: mini_batch_x,    \n",
        "        input_labels: mini_batch_y\n",
        "    })\n",
        "\n",
        "  print('Epoch {}, loss: {}'.format(epoch, train_loss))"
      ],
      "execution_count": 18,
      "outputs": [
        {
          "output_type": "stream",
          "text": [
            "Using TensorFlow backend.\n"
          ],
          "name": "stderr"
        },
        {
          "output_type": "stream",
          "text": [
            "Epoch 0, loss: 14.571497917175293\n",
            "Epoch 1, loss: 8.681635856628418\n",
            "Epoch 2, loss: 3.825040817260742\n",
            "Epoch 3, loss: 1.5636926889419556\n",
            "Epoch 4, loss: 0.9749948382377625\n",
            "Epoch 5, loss: 0.8883118629455566\n",
            "Epoch 6, loss: 0.5033895969390869\n",
            "Epoch 7, loss: 0.30517086386680603\n",
            "Epoch 8, loss: 0.2949698865413666\n",
            "Epoch 9, loss: 0.22195537388324738\n"
          ],
          "name": "stdout"
        }
      ]
    },
    {
      "metadata": {
        "id": "lH2Hht5T9-dL",
        "colab_type": "code",
        "colab": {
          "base_uri": "https://localhost:8080/",
          "height": 228
        },
        "outputId": "bb020b29-5906-4dd6-904a-bb935b3f5348"
      },
      "cell_type": "code",
      "source": [
        "indices = np.arange(start=0, stop=x.shape[0])\n",
        "indices\n"
      ],
      "execution_count": 38,
      "outputs": [
        {
          "output_type": "execute_result",
          "data": {
            "text/plain": [
              "array([  0,   1,   2,   3,   4,   5,   6,   7,   8,   9,  10,  11,  12,\n",
              "        13,  14,  15,  16,  17,  18,  19,  20,  21,  22,  23,  24,  25,\n",
              "        26,  27,  28,  29,  30,  31,  32,  33,  34,  35,  36,  37,  38,\n",
              "        39,  40,  41,  42,  43,  44,  45,  46,  47,  48,  49,  50,  51,\n",
              "        52,  53,  54,  55,  56,  57,  58,  59,  60,  61,  62,  63,  64,\n",
              "        65,  66,  67,  68,  69,  70,  71,  72,  73,  74,  75,  76,  77,\n",
              "        78,  79,  80,  81,  82,  83,  84,  85,  86,  87,  88,  89,  90,\n",
              "        91,  92,  93,  94,  95,  96,  97,  98,  99, 100, 101, 102, 103,\n",
              "       104, 105, 106, 107, 108, 109, 110, 111, 112, 113, 114, 115, 116,\n",
              "       117, 118, 119, 120, 121, 122, 123, 124, 125, 126, 127, 128, 129,\n",
              "       130, 131, 132, 133, 134, 135, 136, 137, 138, 139, 140, 141, 142,\n",
              "       143, 144, 145, 146, 147, 148, 149])"
            ]
          },
          "metadata": {
            "tags": []
          },
          "execution_count": 38
        }
      ]
    },
    {
      "metadata": {
        "id": "Bl-rgijQ-S0R",
        "colab_type": "code",
        "colab": {
          "base_uri": "https://localhost:8080/",
          "height": 228
        },
        "outputId": "3e43b8bf-8432-403b-b5b6-1d9530eb45d4"
      },
      "cell_type": "code",
      "source": [
        "np.random.shuffle(indices)\n",
        "indices"
      ],
      "execution_count": 39,
      "outputs": [
        {
          "output_type": "execute_result",
          "data": {
            "text/plain": [
              "array([138,  73, 135,  51, 124,  99,  19,  59, 146,  21,  70,  46,  58,\n",
              "        68,  63,   7, 136,  85,  22,  95,  12,  88,  71, 110,  31, 145,\n",
              "         6,  80,  37,  35, 121, 102,  76, 125,  44, 116, 109, 101,  50,\n",
              "       120,  32,  25,  27,  86, 111, 113,  81, 103,   5,  39,  11,  47,\n",
              "       129,  57,  23,  77, 114,  90,  41, 144, 131,  64, 123, 118,  14,\n",
              "        98, 107,  84,  94,  97, 147,  53, 142, 106, 117,  79, 126,  78,\n",
              "       132, 119, 134,  40,  65,  29,  43,  18,  24,  36,  91, 112, 115,\n",
              "        48,  62,   8, 104,   0,  33,  55,  82, 148, 149,  75,  13, 130,\n",
              "        74, 139,  67,  49,  54,  56,  87,  10, 133,  15, 143,  38,  92,\n",
              "         2,  42,  45,  93,  69,  28,   4, 140,  30,  34, 141, 122,  96,\n",
              "       128, 127,  83, 108,  89,  17,  52,   1,   9,  72, 137, 105, 100,\n",
              "        20,  60,   3,  61,  66,  16,  26])"
            ]
          },
          "metadata": {
            "tags": []
          },
          "execution_count": 39
        }
      ]
    }
  ]
}