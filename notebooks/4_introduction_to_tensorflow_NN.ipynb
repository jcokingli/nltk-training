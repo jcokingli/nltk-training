{
  "nbformat": 4,
  "nbformat_minor": 0,
  "metadata": {
    "colab": {
      "name": "4-introduction-to-tensorflow-NN.ipynb",
      "version": "0.3.2",
      "provenance": [],
      "collapsed_sections": []
    },
    "kernelspec": {
      "name": "python3",
      "display_name": "Python 3"
    }
  },
  "cells": [
    {
      "metadata": {
        "id": "7NIxjzpH1FQ_",
        "colab_type": "code",
        "colab": {}
      },
      "cell_type": "code",
      "source": [
        "import tensorflow as tf"
      ],
      "execution_count": 0,
      "outputs": []
    },
    {
      "metadata": {
        "id": "ffT8D0Id3-WL",
        "colab_type": "code",
        "colab": {}
      },
      "cell_type": "code",
      "source": [
        "from sklearn.datasets import load_iris\n",
        "import numpy as np\n",
        "from keras.utils import to_categorical"
      ],
      "execution_count": 0,
      "outputs": []
    },
    {
      "metadata": {
        "id": "8kbm084S4EEY",
        "colab_type": "code",
        "colab": {}
      },
      "cell_type": "code",
      "source": [
        "x = load_iris().data\n",
        "y = to_categorical(load_iris().target)"
      ],
      "execution_count": 0,
      "outputs": []
    },
    {
      "metadata": {
        "id": "N80Ew4GB4NIZ",
        "colab_type": "code",
        "colab": {
          "base_uri": "https://localhost:8080/",
          "height": 351
        },
        "outputId": "0244639b-774a-4801-fd2b-133042bdfaef"
      },
      "cell_type": "code",
      "source": [
        "x[:10], y[:10], x.shape"
      ],
      "execution_count": 18,
      "outputs": [
        {
          "output_type": "execute_result",
          "data": {
            "text/plain": [
              "(array([[5.1, 3.5, 1.4, 0.2],\n",
              "        [4.9, 3. , 1.4, 0.2],\n",
              "        [4.7, 3.2, 1.3, 0.2],\n",
              "        [4.6, 3.1, 1.5, 0.2],\n",
              "        [5. , 3.6, 1.4, 0.2],\n",
              "        [5.4, 3.9, 1.7, 0.4],\n",
              "        [4.6, 3.4, 1.4, 0.3],\n",
              "        [5. , 3.4, 1.5, 0.2],\n",
              "        [4.4, 2.9, 1.4, 0.2],\n",
              "        [4.9, 3.1, 1.5, 0.1]]), array([[1., 0., 0.],\n",
              "        [1., 0., 0.],\n",
              "        [1., 0., 0.],\n",
              "        [1., 0., 0.],\n",
              "        [1., 0., 0.],\n",
              "        [1., 0., 0.],\n",
              "        [1., 0., 0.],\n",
              "        [1., 0., 0.],\n",
              "        [1., 0., 0.],\n",
              "        [1., 0., 0.]], dtype=float32), (150, 4))"
            ]
          },
          "metadata": {
            "tags": []
          },
          "execution_count": 18
        }
      ]
    },
    {
      "metadata": {
        "id": "lL95w_j14Ro4",
        "colab_type": "code",
        "colab": {}
      },
      "cell_type": "code",
      "source": [
        "input_features = tf.placeholder(dtype=tf.float32,\n",
        "                                shape = [None, x.shape[1]])\n",
        "input_labels = tf.placeholder(dtype=tf.float32,\n",
        "                             shape = [None, 3])\n",
        "\n",
        "weights = {\n",
        "    'hidden': tf.Variable(tf.random_normal(shape=[x.shape[1], 100])),\n",
        "    'out': tf.Variable(tf.random_normal(shape=[100, 3]))\n",
        "}\n",
        "biases = {\n",
        "    'hidden': tf.Variable(tf.random_normal(shape=[100])),\n",
        "    'out': tf.Variable(tf.random_normal(shape=[3]))\n",
        "}\n",
        "\n",
        "\n"
      ],
      "execution_count": 0,
      "outputs": []
    },
    {
      "metadata": {
        "id": "P4N_zh9ifkmZ",
        "colab_type": "code",
        "colab": {}
      },
      "cell_type": "code",
      "source": [
        "#Create Model function\n",
        "def neural_net(input):\n",
        "  hidden_layer = tf.add(tf.matmul(input, weights['hidden']), biases['hidden'])\n",
        "  out_layer = tf.add(tf.matmul(hidden_layer, weights['out']), biases['out'])\n",
        "  return out_layer\n"
      ],
      "execution_count": 0,
      "outputs": []
    },
    {
      "metadata": {
        "id": "wpZJ7ZOyfnfu",
        "colab_type": "code",
        "colab": {}
      },
      "cell_type": "code",
      "source": [
        "#Construct Model\n",
        "nn_model = neural_net(input_features)\n",
        "prediction = tf.nn.softmax(nn_model)\n",
        "\n",
        "#Define loss\n",
        "loss = tf.reduce_mean(tf.nn.softmax_cross_entropy_with_logits(\n",
        "    logits=nn_model, labels=input_labels))\n",
        "train_op = tf.train.GradientDescentOptimizer(learning_rate=0.001).minimize(loss)"
      ],
      "execution_count": 0,
      "outputs": []
    },
    {
      "metadata": {
        "id": "ZuXwYr-YkBcS",
        "colab_type": "code",
        "colab": {}
      },
      "cell_type": "code",
      "source": [
        "#Evaluate Model\n",
        "# correct_pred = tf.equal(tf.argmax(prediction, 1), tf.argmax(input_labels, 1))\n",
        "# accuracy = tf.reduce_mean(tf.cast(correct_pred, tf.float32))"
      ],
      "execution_count": 0,
      "outputs": []
    },
    {
      "metadata": {
        "id": "SK4TKYel7bf1",
        "colab_type": "code",
        "colab": {}
      },
      "cell_type": "code",
      "source": [
        "sess = tf.Session()\n",
        "sess.run(tf.global_variables_initializer())"
      ],
      "execution_count": 0,
      "outputs": []
    },
    {
      "metadata": {
        "id": "6fcUIZR08e5o",
        "colab_type": "code",
        "colab": {}
      },
      "cell_type": "code",
      "source": [
        "def next_batch(batch_size, features, labels):\n",
        "  indices = np.arange(start=0, stop=features.shape[0])\n",
        "  np.random.shuffle(indices)\n",
        "  indices = indices[:batch_size]\n",
        "  return features[indices], labels[indices]"
      ],
      "execution_count": 0,
      "outputs": []
    },
    {
      "metadata": {
        "id": "sjNVHiEt9Q6Z",
        "colab_type": "code",
        "colab": {
          "base_uri": "https://localhost:8080/",
          "height": 1777
        },
        "outputId": "9704b668-c8e4-4332-f7c4-c8df154f93cd"
      },
      "cell_type": "code",
      "source": [
        "batch_size = 16\n",
        "for epoch in range(100):\n",
        "  for index in range(int(x.shape[0] / batch_size)):\n",
        "    mini_batch_x, mini_batch_y = next_batch(batch_size = batch_size, \n",
        "                                            features =x, labels=y)\n",
        "    \n",
        "    \n",
        "    _, train_loss = sess.run([train_op, loss], feed_dict={\n",
        "        input_features: mini_batch_x,    \n",
        "        input_labels: mini_batch_y\n",
        "    })\n",
        "\n",
        "  print('Epoch {}, loss: {}'.format(epoch, train_loss))"
      ],
      "execution_count": 25,
      "outputs": [
        {
          "output_type": "stream",
          "text": [
            "Epoch 0, loss: 57.97085189819336\n",
            "Epoch 1, loss: 33.705413818359375\n",
            "Epoch 2, loss: 14.172231674194336\n",
            "Epoch 3, loss: 10.504326820373535\n",
            "Epoch 4, loss: 8.904040336608887\n",
            "Epoch 5, loss: 4.434505462646484\n",
            "Epoch 6, loss: 3.4762744903564453\n",
            "Epoch 7, loss: 1.3622524738311768\n",
            "Epoch 8, loss: 0.9780164957046509\n",
            "Epoch 9, loss: 0.3946342468261719\n",
            "Epoch 10, loss: 1.1448853015899658\n",
            "Epoch 11, loss: 0.6268913745880127\n",
            "Epoch 12, loss: 0.7401090860366821\n",
            "Epoch 13, loss: 0.4836546778678894\n",
            "Epoch 14, loss: 0.4630252420902252\n",
            "Epoch 15, loss: 0.16511604189872742\n",
            "Epoch 16, loss: 0.23523609340190887\n",
            "Epoch 17, loss: 0.2506065368652344\n",
            "Epoch 18, loss: 0.312003493309021\n",
            "Epoch 19, loss: 0.26987117528915405\n",
            "Epoch 20, loss: 0.4258610010147095\n",
            "Epoch 21, loss: 0.3147205412387848\n",
            "Epoch 22, loss: 0.3669074773788452\n",
            "Epoch 23, loss: 0.17788930237293243\n",
            "Epoch 24, loss: 0.6687830686569214\n",
            "Epoch 25, loss: 0.17279604077339172\n",
            "Epoch 26, loss: 0.2665780484676361\n",
            "Epoch 27, loss: 0.800940990447998\n",
            "Epoch 28, loss: 0.5253427028656006\n",
            "Epoch 29, loss: 0.22130337357521057\n",
            "Epoch 30, loss: 0.19643887877464294\n",
            "Epoch 31, loss: 0.17487801611423492\n",
            "Epoch 32, loss: 0.14702816307544708\n",
            "Epoch 33, loss: 0.15515971183776855\n",
            "Epoch 34, loss: 0.04955765977501869\n",
            "Epoch 35, loss: 0.19695517420768738\n",
            "Epoch 36, loss: 0.09569577127695084\n",
            "Epoch 37, loss: 0.3433384895324707\n",
            "Epoch 38, loss: 0.19832757115364075\n",
            "Epoch 39, loss: 0.08578067272901535\n",
            "Epoch 40, loss: 0.4245944619178772\n",
            "Epoch 41, loss: 0.435924768447876\n",
            "Epoch 42, loss: 0.1423243135213852\n",
            "Epoch 43, loss: 0.1045633926987648\n",
            "Epoch 44, loss: 0.08240510523319244\n",
            "Epoch 45, loss: 0.1156449243426323\n",
            "Epoch 46, loss: 0.2374895066022873\n",
            "Epoch 47, loss: 0.11213274300098419\n",
            "Epoch 48, loss: 0.1936836689710617\n",
            "Epoch 49, loss: 0.418215274810791\n",
            "Epoch 50, loss: 0.4783874452114105\n",
            "Epoch 51, loss: 0.06549882888793945\n",
            "Epoch 52, loss: 0.4201767146587372\n",
            "Epoch 53, loss: 0.08937041461467743\n",
            "Epoch 54, loss: 0.05915138125419617\n",
            "Epoch 55, loss: 0.1290012151002884\n",
            "Epoch 56, loss: 0.024032797664403915\n",
            "Epoch 57, loss: 0.6097568273544312\n",
            "Epoch 58, loss: 0.1268044114112854\n",
            "Epoch 59, loss: 0.08691637217998505\n",
            "Epoch 60, loss: 0.011800887994468212\n",
            "Epoch 61, loss: 0.13991577923297882\n",
            "Epoch 62, loss: 0.07516874372959137\n",
            "Epoch 63, loss: 0.13833439350128174\n",
            "Epoch 64, loss: 0.20730561017990112\n",
            "Epoch 65, loss: 0.032516494393348694\n",
            "Epoch 66, loss: 0.1509096920490265\n",
            "Epoch 67, loss: 0.028124520555138588\n",
            "Epoch 68, loss: 0.03357608988881111\n",
            "Epoch 69, loss: 0.03324626013636589\n",
            "Epoch 70, loss: 0.1796928346157074\n",
            "Epoch 71, loss: 0.1174846887588501\n",
            "Epoch 72, loss: 0.016474395990371704\n",
            "Epoch 73, loss: 0.022657835856080055\n",
            "Epoch 74, loss: 0.23654131591320038\n",
            "Epoch 75, loss: 0.04267219454050064\n",
            "Epoch 76, loss: 0.1603795886039734\n",
            "Epoch 77, loss: 0.09469908475875854\n",
            "Epoch 78, loss: 0.09055381268262863\n",
            "Epoch 79, loss: 0.03499733656644821\n",
            "Epoch 80, loss: 0.10112112760543823\n",
            "Epoch 81, loss: 0.041894927620887756\n",
            "Epoch 82, loss: 0.17641526460647583\n",
            "Epoch 83, loss: 0.18897326290607452\n",
            "Epoch 84, loss: 0.14662513136863708\n",
            "Epoch 85, loss: 0.14044718444347382\n",
            "Epoch 86, loss: 0.04283665865659714\n",
            "Epoch 87, loss: 0.29095911979675293\n",
            "Epoch 88, loss: 0.1103815957903862\n",
            "Epoch 89, loss: 0.16145865619182587\n",
            "Epoch 90, loss: 0.11866744607686996\n",
            "Epoch 91, loss: 0.12148039788007736\n",
            "Epoch 92, loss: 0.07582004368305206\n",
            "Epoch 93, loss: 0.07346555590629578\n",
            "Epoch 94, loss: 0.08620284497737885\n",
            "Epoch 95, loss: 0.11148466169834137\n",
            "Epoch 96, loss: 0.0780138298869133\n",
            "Epoch 97, loss: 0.12778078019618988\n",
            "Epoch 98, loss: 0.03136593848466873\n",
            "Epoch 99, loss: 0.2030419558286667\n"
          ],
          "name": "stdout"
        }
      ]
    }
  ]
}