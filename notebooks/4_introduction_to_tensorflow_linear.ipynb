{
  "nbformat": 4,
  "nbformat_minor": 0,
  "metadata": {
    "colab": {
      "name": "4-introduction-to-tensorflow-linear.ipynb",
      "version": "0.3.2",
      "provenance": [],
      "collapsed_sections": []
    },
    "kernelspec": {
      "name": "python3",
      "display_name": "Python 3"
    },
    "accelerator": "GPU"
  },
  "cells": [
    {
      "metadata": {
        "id": "7NIxjzpH1FQ_",
        "colab_type": "code",
        "colab": {}
      },
      "cell_type": "code",
      "source": [
        "import tensorflow as tf"
      ],
      "execution_count": 0,
      "outputs": []
    },
    {
      "metadata": {
        "id": "ffT8D0Id3-WL",
        "colab_type": "code",
        "colab": {
          "base_uri": "https://localhost:8080/",
          "height": 35
        },
        "outputId": "5a00a2aa-69c0-464d-c75b-c0c1b379c6c4"
      },
      "cell_type": "code",
      "source": [
        "from sklearn.datasets import load_iris\n",
        "import numpy as np\n",
        "from keras.utils import to_categorical"
      ],
      "execution_count": 5,
      "outputs": [
        {
          "output_type": "stream",
          "text": [
            "Using TensorFlow backend.\n"
          ],
          "name": "stderr"
        }
      ]
    },
    {
      "metadata": {
        "id": "8kbm084S4EEY",
        "colab_type": "code",
        "colab": {}
      },
      "cell_type": "code",
      "source": [
        "x = load_iris().data\n",
        "y = to_categorical(load_iris().target)"
      ],
      "execution_count": 0,
      "outputs": []
    },
    {
      "metadata": {
        "id": "N80Ew4GB4NIZ",
        "colab_type": "code",
        "colab": {
          "base_uri": "https://localhost:8080/",
          "height": 351
        },
        "outputId": "6eda6eda-9b5d-4cd4-ec0e-8fd4d0b5c6fa"
      },
      "cell_type": "code",
      "source": [
        "x[:10], y[:10], x.shape"
      ],
      "execution_count": 7,
      "outputs": [
        {
          "output_type": "execute_result",
          "data": {
            "text/plain": [
              "(array([[5.1, 3.5, 1.4, 0.2],\n",
              "        [4.9, 3. , 1.4, 0.2],\n",
              "        [4.7, 3.2, 1.3, 0.2],\n",
              "        [4.6, 3.1, 1.5, 0.2],\n",
              "        [5. , 3.6, 1.4, 0.2],\n",
              "        [5.4, 3.9, 1.7, 0.4],\n",
              "        [4.6, 3.4, 1.4, 0.3],\n",
              "        [5. , 3.4, 1.5, 0.2],\n",
              "        [4.4, 2.9, 1.4, 0.2],\n",
              "        [4.9, 3.1, 1.5, 0.1]]), array([[1., 0., 0.],\n",
              "        [1., 0., 0.],\n",
              "        [1., 0., 0.],\n",
              "        [1., 0., 0.],\n",
              "        [1., 0., 0.],\n",
              "        [1., 0., 0.],\n",
              "        [1., 0., 0.],\n",
              "        [1., 0., 0.],\n",
              "        [1., 0., 0.],\n",
              "        [1., 0., 0.]], dtype=float32), (150, 4))"
            ]
          },
          "metadata": {
            "tags": []
          },
          "execution_count": 7
        }
      ]
    },
    {
      "metadata": {
        "id": "lL95w_j14Ro4",
        "colab_type": "code",
        "colab": {}
      },
      "cell_type": "code",
      "source": [
        "input_features = tf.placeholder(dtype=tf.float32,\n",
        "                                shape = [None, x.shape[1]])\n",
        "input_labels = tf.placeholder(dtype=tf.float32,\n",
        "                             shape = [None, 3])\n",
        "\n",
        "weights = tf.Variable(tf.random_normal(shape=[x.shape[1], 3]))\n",
        "biases = tf.Variable(tf.random_normal(shape=[3]))\n",
        "linear_model = tf.add(tf.matmul(input_features,weights), biases)\n",
        "\n",
        "loss = tf.reduce_mean(tf.square(linear_model - input_labels))\n",
        "train_op = tf.train.GradientDescentOptimizer(learning_rate=0.001).minimize(loss)"
      ],
      "execution_count": 0,
      "outputs": []
    },
    {
      "metadata": {
        "id": "SK4TKYel7bf1",
        "colab_type": "code",
        "colab": {}
      },
      "cell_type": "code",
      "source": [
        "sess = tf.Session()\n",
        "sess.run(tf.global_variables_initializer())"
      ],
      "execution_count": 0,
      "outputs": []
    },
    {
      "metadata": {
        "id": "6fcUIZR08e5o",
        "colab_type": "code",
        "colab": {}
      },
      "cell_type": "code",
      "source": [
        "def next_batch(batch_size, features, labels):\n",
        "  indices = np.arange(start=0, stop=features.shape[0])\n",
        "  np.random.shuffle(indices)\n",
        "  indices = indices[:batch_size]\n",
        "  return features[indices], labels[indices]"
      ],
      "execution_count": 0,
      "outputs": []
    },
    {
      "metadata": {
        "id": "sjNVHiEt9Q6Z",
        "colab_type": "code",
        "colab": {
          "base_uri": "https://localhost:8080/",
          "height": 1777
        },
        "outputId": "dc083a2c-c26f-47aa-abc6-8dabc79229e9"
      },
      "cell_type": "code",
      "source": [
        "batch_size = 16\n",
        "for epoch in range(100):\n",
        "  for index in range(int(x.shape[0] / batch_size)):\n",
        "    mini_batch_x, mini_batch_y = next_batch(batch_size = batch_size, features =x, labels=y)\n",
        "    \n",
        "    _, train_loss = sess.run([train_op, loss], feed_dict={\n",
        "        input_features: mini_batch_x,    \n",
        "        input_labels: mini_batch_y\n",
        "    })\n",
        "\n",
        "  print('Epoch {}, loss: {}'.format(epoch, train_loss))"
      ],
      "execution_count": 11,
      "outputs": [
        {
          "output_type": "stream",
          "text": [
            "Epoch 0, loss: 7.988632678985596\n",
            "Epoch 1, loss: 9.816861152648926\n",
            "Epoch 2, loss: 4.4432854652404785\n",
            "Epoch 3, loss: 5.949015140533447\n",
            "Epoch 4, loss: 7.509998321533203\n",
            "Epoch 5, loss: 5.050745487213135\n",
            "Epoch 6, loss: 4.933233737945557\n",
            "Epoch 7, loss: 2.2495810985565186\n",
            "Epoch 8, loss: 4.756466865539551\n",
            "Epoch 9, loss: 3.144001007080078\n",
            "Epoch 10, loss: 4.552108287811279\n",
            "Epoch 11, loss: 3.827199935913086\n",
            "Epoch 12, loss: 3.28760027885437\n",
            "Epoch 13, loss: 3.610724449157715\n",
            "Epoch 14, loss: 3.954289197921753\n",
            "Epoch 15, loss: 5.385611057281494\n",
            "Epoch 16, loss: 4.227519512176514\n",
            "Epoch 17, loss: 2.394225835800171\n",
            "Epoch 18, loss: 2.6579043865203857\n",
            "Epoch 19, loss: 5.063089847564697\n",
            "Epoch 20, loss: 3.1155683994293213\n",
            "Epoch 21, loss: 1.8636547327041626\n",
            "Epoch 22, loss: 3.181469678878784\n",
            "Epoch 23, loss: 2.7214438915252686\n",
            "Epoch 24, loss: 2.628817319869995\n",
            "Epoch 25, loss: 2.6945111751556396\n",
            "Epoch 26, loss: 3.110393762588501\n",
            "Epoch 27, loss: 3.1067111492156982\n",
            "Epoch 28, loss: 2.792229652404785\n",
            "Epoch 29, loss: 2.891667127609253\n",
            "Epoch 30, loss: 3.303900718688965\n",
            "Epoch 31, loss: 2.2345237731933594\n",
            "Epoch 32, loss: 2.7278566360473633\n",
            "Epoch 33, loss: 2.354434013366699\n",
            "Epoch 34, loss: 2.598909854888916\n",
            "Epoch 35, loss: 2.2335097789764404\n",
            "Epoch 36, loss: 2.135333776473999\n",
            "Epoch 37, loss: 2.7299797534942627\n",
            "Epoch 38, loss: 2.4083094596862793\n",
            "Epoch 39, loss: 2.271904706954956\n",
            "Epoch 40, loss: 1.6762536764144897\n",
            "Epoch 41, loss: 2.4626221656799316\n",
            "Epoch 42, loss: 2.027445077896118\n",
            "Epoch 43, loss: 1.4217456579208374\n",
            "Epoch 44, loss: 1.6129961013793945\n",
            "Epoch 45, loss: 1.7414361238479614\n",
            "Epoch 46, loss: 2.0325441360473633\n",
            "Epoch 47, loss: 1.876996636390686\n",
            "Epoch 48, loss: 1.5583754777908325\n",
            "Epoch 49, loss: 1.280288577079773\n",
            "Epoch 50, loss: 1.5386484861373901\n",
            "Epoch 51, loss: 1.294495701789856\n",
            "Epoch 52, loss: 1.304823398590088\n",
            "Epoch 53, loss: 1.010539174079895\n",
            "Epoch 54, loss: 2.245020627975464\n",
            "Epoch 55, loss: 1.4762763977050781\n",
            "Epoch 56, loss: 1.4000701904296875\n",
            "Epoch 57, loss: 1.0875931978225708\n",
            "Epoch 58, loss: 1.1138044595718384\n",
            "Epoch 59, loss: 1.0672730207443237\n",
            "Epoch 60, loss: 0.5906937122344971\n",
            "Epoch 61, loss: 1.0857007503509521\n",
            "Epoch 62, loss: 0.9491084218025208\n",
            "Epoch 63, loss: 0.689488410949707\n",
            "Epoch 64, loss: 1.3118253946304321\n",
            "Epoch 65, loss: 1.123451828956604\n",
            "Epoch 66, loss: 1.07615327835083\n",
            "Epoch 67, loss: 1.2492623329162598\n",
            "Epoch 68, loss: 0.910496175289154\n",
            "Epoch 69, loss: 1.1951199769973755\n",
            "Epoch 70, loss: 1.112535834312439\n",
            "Epoch 71, loss: 1.0435670614242554\n",
            "Epoch 72, loss: 0.8866360783576965\n",
            "Epoch 73, loss: 0.7160157561302185\n",
            "Epoch 74, loss: 1.087427020072937\n",
            "Epoch 75, loss: 0.9006280303001404\n",
            "Epoch 76, loss: 0.7185596823692322\n",
            "Epoch 77, loss: 0.8400285243988037\n",
            "Epoch 78, loss: 0.7819722294807434\n",
            "Epoch 79, loss: 1.1177622079849243\n",
            "Epoch 80, loss: 0.7120006084442139\n",
            "Epoch 81, loss: 0.7474654316902161\n",
            "Epoch 82, loss: 1.0168029069900513\n",
            "Epoch 83, loss: 0.5275338888168335\n",
            "Epoch 84, loss: 0.6023425459861755\n",
            "Epoch 85, loss: 0.5771161317825317\n",
            "Epoch 86, loss: 0.7780014872550964\n",
            "Epoch 87, loss: 0.7160714268684387\n",
            "Epoch 88, loss: 0.6621058583259583\n",
            "Epoch 89, loss: 0.6404004096984863\n",
            "Epoch 90, loss: 0.7531633377075195\n",
            "Epoch 91, loss: 0.776886522769928\n",
            "Epoch 92, loss: 0.582485020160675\n",
            "Epoch 93, loss: 0.6174843907356262\n",
            "Epoch 94, loss: 0.6995753645896912\n",
            "Epoch 95, loss: 0.7298622131347656\n",
            "Epoch 96, loss: 0.7142569422721863\n",
            "Epoch 97, loss: 0.5245913863182068\n",
            "Epoch 98, loss: 0.5532941818237305\n",
            "Epoch 99, loss: 0.5427883267402649\n"
          ],
          "name": "stdout"
        }
      ]
    }
  ]
}